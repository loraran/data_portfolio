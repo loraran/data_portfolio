{
  "nbformat": 4,
  "nbformat_minor": 0,
  "metadata": {
    "colab": {
      "name": "sales_conversion_optimization.ipynb",
      "provenance": [],
      "authorship_tag": "ABX9TyNDKSuGGqTE6wOt/ysqabfV"
    },
    "kernelspec": {
      "name": "python3",
      "display_name": "Python 3"
    },
    "language_info": {
      "name": "python"
    }
  },
  "cells": [
    {
      "cell_type": "markdown",
      "metadata": {
        "id": "Sr3XPRM3F9PQ"
      },
      "source": [
        "# Dataset Analysis: **Sales Conversion Optimization**"
      ]
    },
    {
      "cell_type": "markdown",
      "metadata": {
        "id": "o2qREKxqOzRD"
      },
      "source": [
        "### **Etapa 1 - Entendimento do Problema**\n",
        "\n",
        "**Conteúdo:** Os dados utilizados nesse projeto são referentes a uma campanha de publicidade em mídias sociais de uma organização anônima (XYZ).\n",
        "\n",
        "**Objetivo:** Melhorar a conversão de vendas da empresa a partir da análise de campanhas realizadas no Facebook.\n",
        "\n",
        "**Dataset:** https://www.kaggle.com/loveall/clicks-conversion-tracking"
      ]
    },
    {
      "cell_type": "markdown",
      "metadata": {
        "id": "tOu6nu46Kvsu"
      },
      "source": [
        "##### Importando bibliotecas de interesse:"
      ]
    },
    {
      "cell_type": "code",
      "metadata": {
        "id": "0aNHnDggIKGR"
      },
      "source": [
        "# Importação e Manipulação do .CSV\n",
        "import pandas as pd\n",
        "\n",
        "# Visualização dos Dados\n",
        "import missingno   # https://github.com/ResidentMario/missingno\n",
        "import matplotlib.pyplot as plt\n",
        "import seaborn as sns"
      ],
      "execution_count": 59,
      "outputs": []
    },
    {
      "cell_type": "markdown",
      "metadata": {
        "id": "kmwWRIyOLgbe"
      },
      "source": [
        "### **Etapa 2 - Análise, Interpretação e Visualização de Dados**"
      ]
    },
    {
      "cell_type": "markdown",
      "metadata": {
        "id": "l2iUboytHK4m"
      },
      "source": [
        "##### **Carregando o dataset:**"
      ]
    },
    {
      "cell_type": "code",
      "metadata": {
        "colab": {
          "base_uri": "https://localhost:8080/"
        },
        "id": "RLOysdzyLlAO",
        "outputId": "ec607722-414e-4554-d8b1-77b9acc4fb5e"
      },
      "source": [
        "# Criando uma variável que recebe o dataframe\n",
        "df = pd.read_csv(\"KAG_conversion_data.csv\")\n",
        "type(df)"
      ],
      "execution_count": 31,
      "outputs": [
        {
          "output_type": "execute_result",
          "data": {
            "text/plain": [
              "pandas.core.frame.DataFrame"
            ]
          },
          "metadata": {
            "tags": []
          },
          "execution_count": 31
        }
      ]
    },
    {
      "cell_type": "markdown",
      "metadata": {
        "id": "9g2iQ790N9TY"
      },
      "source": [
        "##### **Primeira inspeção:**"
      ]
    },
    {
      "cell_type": "code",
      "metadata": {
        "colab": {
          "base_uri": "https://localhost:8080/",
          "height": 204
        },
        "id": "Pn-r2KkYLqYC",
        "outputId": "ecb2e2ee-5cdd-4fdb-cccc-de41763456d4"
      },
      "source": [
        "df.head() # 5 primeiras linhas do dataframe (default)"
      ],
      "execution_count": 32,
      "outputs": [
        {
          "output_type": "execute_result",
          "data": {
            "text/html": [
              "<div>\n",
              "<style scoped>\n",
              "    .dataframe tbody tr th:only-of-type {\n",
              "        vertical-align: middle;\n",
              "    }\n",
              "\n",
              "    .dataframe tbody tr th {\n",
              "        vertical-align: top;\n",
              "    }\n",
              "\n",
              "    .dataframe thead th {\n",
              "        text-align: right;\n",
              "    }\n",
              "</style>\n",
              "<table border=\"1\" class=\"dataframe\">\n",
              "  <thead>\n",
              "    <tr style=\"text-align: right;\">\n",
              "      <th></th>\n",
              "      <th>ad_id</th>\n",
              "      <th>xyz_campaign_id</th>\n",
              "      <th>fb_campaign_id</th>\n",
              "      <th>age</th>\n",
              "      <th>gender</th>\n",
              "      <th>interest</th>\n",
              "      <th>Impressions</th>\n",
              "      <th>Clicks</th>\n",
              "      <th>Spent</th>\n",
              "      <th>Total_Conversion</th>\n",
              "      <th>Approved_Conversion</th>\n",
              "    </tr>\n",
              "  </thead>\n",
              "  <tbody>\n",
              "    <tr>\n",
              "      <th>0</th>\n",
              "      <td>708746</td>\n",
              "      <td>916</td>\n",
              "      <td>103916</td>\n",
              "      <td>30-34</td>\n",
              "      <td>M</td>\n",
              "      <td>15</td>\n",
              "      <td>7350</td>\n",
              "      <td>1</td>\n",
              "      <td>1.43</td>\n",
              "      <td>2</td>\n",
              "      <td>1</td>\n",
              "    </tr>\n",
              "    <tr>\n",
              "      <th>1</th>\n",
              "      <td>708749</td>\n",
              "      <td>916</td>\n",
              "      <td>103917</td>\n",
              "      <td>30-34</td>\n",
              "      <td>M</td>\n",
              "      <td>16</td>\n",
              "      <td>17861</td>\n",
              "      <td>2</td>\n",
              "      <td>1.82</td>\n",
              "      <td>2</td>\n",
              "      <td>0</td>\n",
              "    </tr>\n",
              "    <tr>\n",
              "      <th>2</th>\n",
              "      <td>708771</td>\n",
              "      <td>916</td>\n",
              "      <td>103920</td>\n",
              "      <td>30-34</td>\n",
              "      <td>M</td>\n",
              "      <td>20</td>\n",
              "      <td>693</td>\n",
              "      <td>0</td>\n",
              "      <td>0.00</td>\n",
              "      <td>1</td>\n",
              "      <td>0</td>\n",
              "    </tr>\n",
              "    <tr>\n",
              "      <th>3</th>\n",
              "      <td>708815</td>\n",
              "      <td>916</td>\n",
              "      <td>103928</td>\n",
              "      <td>30-34</td>\n",
              "      <td>M</td>\n",
              "      <td>28</td>\n",
              "      <td>4259</td>\n",
              "      <td>1</td>\n",
              "      <td>1.25</td>\n",
              "      <td>1</td>\n",
              "      <td>0</td>\n",
              "    </tr>\n",
              "    <tr>\n",
              "      <th>4</th>\n",
              "      <td>708818</td>\n",
              "      <td>916</td>\n",
              "      <td>103928</td>\n",
              "      <td>30-34</td>\n",
              "      <td>M</td>\n",
              "      <td>28</td>\n",
              "      <td>4133</td>\n",
              "      <td>1</td>\n",
              "      <td>1.29</td>\n",
              "      <td>1</td>\n",
              "      <td>1</td>\n",
              "    </tr>\n",
              "  </tbody>\n",
              "</table>\n",
              "</div>"
            ],
            "text/plain": [
              "    ad_id  xyz_campaign_id  ...  Total_Conversion Approved_Conversion\n",
              "0  708746              916  ...                 2                   1\n",
              "1  708749              916  ...                 2                   0\n",
              "2  708771              916  ...                 1                   0\n",
              "3  708815              916  ...                 1                   0\n",
              "4  708818              916  ...                 1                   1\n",
              "\n",
              "[5 rows x 11 columns]"
            ]
          },
          "metadata": {
            "tags": []
          },
          "execution_count": 32
        }
      ]
    },
    {
      "cell_type": "code",
      "metadata": {
        "colab": {
          "base_uri": "https://localhost:8080/",
          "height": 204
        },
        "id": "kwT0wHn1Tz2_",
        "outputId": "1d8b3734-51d7-435d-f65c-0b238f8efe35"
      },
      "source": [
        "df.tail() # 5 últimas linhas do dataframe (default)"
      ],
      "execution_count": 33,
      "outputs": [
        {
          "output_type": "execute_result",
          "data": {
            "text/html": [
              "<div>\n",
              "<style scoped>\n",
              "    .dataframe tbody tr th:only-of-type {\n",
              "        vertical-align: middle;\n",
              "    }\n",
              "\n",
              "    .dataframe tbody tr th {\n",
              "        vertical-align: top;\n",
              "    }\n",
              "\n",
              "    .dataframe thead th {\n",
              "        text-align: right;\n",
              "    }\n",
              "</style>\n",
              "<table border=\"1\" class=\"dataframe\">\n",
              "  <thead>\n",
              "    <tr style=\"text-align: right;\">\n",
              "      <th></th>\n",
              "      <th>ad_id</th>\n",
              "      <th>xyz_campaign_id</th>\n",
              "      <th>fb_campaign_id</th>\n",
              "      <th>age</th>\n",
              "      <th>gender</th>\n",
              "      <th>interest</th>\n",
              "      <th>Impressions</th>\n",
              "      <th>Clicks</th>\n",
              "      <th>Spent</th>\n",
              "      <th>Total_Conversion</th>\n",
              "      <th>Approved_Conversion</th>\n",
              "    </tr>\n",
              "  </thead>\n",
              "  <tbody>\n",
              "    <tr>\n",
              "      <th>1138</th>\n",
              "      <td>1314410</td>\n",
              "      <td>1178</td>\n",
              "      <td>179977</td>\n",
              "      <td>45-49</td>\n",
              "      <td>F</td>\n",
              "      <td>109</td>\n",
              "      <td>1129773</td>\n",
              "      <td>252</td>\n",
              "      <td>358.189997</td>\n",
              "      <td>13</td>\n",
              "      <td>2</td>\n",
              "    </tr>\n",
              "    <tr>\n",
              "      <th>1139</th>\n",
              "      <td>1314411</td>\n",
              "      <td>1178</td>\n",
              "      <td>179978</td>\n",
              "      <td>45-49</td>\n",
              "      <td>F</td>\n",
              "      <td>110</td>\n",
              "      <td>637549</td>\n",
              "      <td>120</td>\n",
              "      <td>173.880003</td>\n",
              "      <td>3</td>\n",
              "      <td>0</td>\n",
              "    </tr>\n",
              "    <tr>\n",
              "      <th>1140</th>\n",
              "      <td>1314412</td>\n",
              "      <td>1178</td>\n",
              "      <td>179979</td>\n",
              "      <td>45-49</td>\n",
              "      <td>F</td>\n",
              "      <td>111</td>\n",
              "      <td>151531</td>\n",
              "      <td>28</td>\n",
              "      <td>40.289999</td>\n",
              "      <td>2</td>\n",
              "      <td>0</td>\n",
              "    </tr>\n",
              "    <tr>\n",
              "      <th>1141</th>\n",
              "      <td>1314414</td>\n",
              "      <td>1178</td>\n",
              "      <td>179981</td>\n",
              "      <td>45-49</td>\n",
              "      <td>F</td>\n",
              "      <td>113</td>\n",
              "      <td>790253</td>\n",
              "      <td>135</td>\n",
              "      <td>198.710000</td>\n",
              "      <td>8</td>\n",
              "      <td>2</td>\n",
              "    </tr>\n",
              "    <tr>\n",
              "      <th>1142</th>\n",
              "      <td>1314415</td>\n",
              "      <td>1178</td>\n",
              "      <td>179982</td>\n",
              "      <td>45-49</td>\n",
              "      <td>F</td>\n",
              "      <td>114</td>\n",
              "      <td>513161</td>\n",
              "      <td>114</td>\n",
              "      <td>165.609999</td>\n",
              "      <td>5</td>\n",
              "      <td>2</td>\n",
              "    </tr>\n",
              "  </tbody>\n",
              "</table>\n",
              "</div>"
            ],
            "text/plain": [
              "        ad_id  xyz_campaign_id  ...  Total_Conversion Approved_Conversion\n",
              "1138  1314410             1178  ...                13                   2\n",
              "1139  1314411             1178  ...                 3                   0\n",
              "1140  1314412             1178  ...                 2                   0\n",
              "1141  1314414             1178  ...                 8                   2\n",
              "1142  1314415             1178  ...                 5                   2\n",
              "\n",
              "[5 rows x 11 columns]"
            ]
          },
          "metadata": {
            "tags": []
          },
          "execution_count": 33
        }
      ]
    },
    {
      "cell_type": "code",
      "metadata": {
        "colab": {
          "base_uri": "https://localhost:8080/"
        },
        "id": "pFQM3DGyULXY",
        "outputId": "cdf3b01f-c6a0-4a08-9786-727972098380"
      },
      "source": [
        "df.columns # Lista todas as colunas do dataframe"
      ],
      "execution_count": 34,
      "outputs": [
        {
          "output_type": "execute_result",
          "data": {
            "text/plain": [
              "Index(['ad_id', 'xyz_campaign_id', 'fb_campaign_id', 'age', 'gender',\n",
              "       'interest', 'Impressions', 'Clicks', 'Spent', 'Total_Conversion',\n",
              "       'Approved_Conversion'],\n",
              "      dtype='object')"
            ]
          },
          "metadata": {
            "tags": []
          },
          "execution_count": 34
        }
      ]
    },
    {
      "cell_type": "code",
      "metadata": {
        "colab": {
          "base_uri": "https://localhost:8080/"
        },
        "id": "M654DVHmUnSd",
        "outputId": "e6704445-c32f-4df5-d0bf-d2d8d4c52089"
      },
      "source": [
        "df.shape # tuple"
      ],
      "execution_count": 35,
      "outputs": [
        {
          "output_type": "execute_result",
          "data": {
            "text/plain": [
              "(1143, 11)"
            ]
          },
          "metadata": {
            "tags": []
          },
          "execution_count": 35
        }
      ]
    },
    {
      "cell_type": "code",
      "metadata": {
        "colab": {
          "base_uri": "https://localhost:8080/"
        },
        "id": "IggXsde1UyTy",
        "outputId": "1d926484-98b8-46f4-8d88-bb3d07e351bb"
      },
      "source": [
        "linhas, colunas = df.shape # Número de linhas e colunas do dataframe\n",
        "print(f\"Número de linhas: {linhas}\")\n",
        "print(f\"Número de colunas: {colunas}\")"
      ],
      "execution_count": 36,
      "outputs": [
        {
          "output_type": "stream",
          "text": [
            "Número de linhas: 1143\n",
            "Número de colunas: 11\n"
          ],
          "name": "stdout"
        }
      ]
    },
    {
      "cell_type": "code",
      "metadata": {
        "colab": {
          "base_uri": "https://localhost:8080/"
        },
        "id": "g9Bvm6Bgkeb_",
        "outputId": "577184a1-4c93-4b92-9722-e7e113f50e38"
      },
      "source": [
        "df.info()"
      ],
      "execution_count": 37,
      "outputs": [
        {
          "output_type": "stream",
          "text": [
            "<class 'pandas.core.frame.DataFrame'>\n",
            "RangeIndex: 1143 entries, 0 to 1142\n",
            "Data columns (total 11 columns):\n",
            " #   Column               Non-Null Count  Dtype  \n",
            "---  ------               --------------  -----  \n",
            " 0   ad_id                1143 non-null   int64  \n",
            " 1   xyz_campaign_id      1143 non-null   int64  \n",
            " 2   fb_campaign_id       1143 non-null   int64  \n",
            " 3   age                  1143 non-null   object \n",
            " 4   gender               1143 non-null   object \n",
            " 5   interest             1143 non-null   int64  \n",
            " 6   Impressions          1143 non-null   int64  \n",
            " 7   Clicks               1143 non-null   int64  \n",
            " 8   Spent                1143 non-null   float64\n",
            " 9   Total_Conversion     1143 non-null   int64  \n",
            " 10  Approved_Conversion  1143 non-null   int64  \n",
            "dtypes: float64(1), int64(8), object(2)\n",
            "memory usage: 98.4+ KB\n"
          ],
          "name": "stdout"
        }
      ]
    },
    {
      "cell_type": "markdown",
      "metadata": {
        "id": "L14gWGETkrSx"
      },
      "source": [
        "Observações:\n",
        "- Nota-se que esse dataframe é um conjunto sem dados faltantes - ou seja, todas as colunas (_features_) possuem valores para cada uma das 1143 linhas do dataframe.\n",
        "- Conforme o esperado, as únicas features compostas por dados do tipo _object_ são as de idade (pois estão categorizadas como intervalos) e gênero."
      ]
    },
    {
      "cell_type": "markdown",
      "metadata": {
        "id": "a9dhSNA1OO0w"
      },
      "source": [
        "##### **Dicionário de Dados:**"
      ]
    },
    {
      "cell_type": "markdown",
      "metadata": {
        "id": "G97pYiQrMUo4"
      },
      "source": [
        "Padronizando o nome das colunas para melhor entendimento e manipulação dos dados:"
      ]
    },
    {
      "cell_type": "code",
      "metadata": {
        "id": "lBsd4spJWohv"
      },
      "source": [
        "df.rename(columns={\"ad_id\":\"id_anuncio\",\"xyz_campaign_id\":\"id_campanha\",\"fb_campaign_id\":\"id_fb_campanha\",\"age\":\"idade\",\"gender\":\"genero\",\"interest\":\"interesse\",\"Impressions\":\"numero_exibicoes\",\"Clicks\":\"cliques\",\"Spent\":\"valor_pago_anuncio\",\"Total_Conversion\":\"conversao\",\"Approved_Conversion\":\"compras\"}, inplace=True)"
      ],
      "execution_count": 38,
      "outputs": []
    },
    {
      "cell_type": "markdown",
      "metadata": {
        "id": "5mJ2brZadzl6"
      },
      "source": [
        "Temos, portanto, o dicionário:\n",
        "\n",
        "- _**id_anuncio**_: ID única de cada anúncio.\n",
        "- _**id_campanha**_: ID associada a cada anúncio da empresa XYZ.\n",
        "- _**id_fb_campanha**_: ID associada a como o Facebook identifica cada campanha.\n",
        "- _**idade**_: idade da pessoa a qual o anúncio é entregue.\n",
        "- _**genero**_: gênero da pessoa a qual o anúncio é entregue (M - masculino, F - feminino).\n",
        "- _**interesse**_: um código que especifica a categoria de interesse da pessoa (conforme mencionado no perfil público da pessoa dentro do Facebook).\n",
        "- _**numero_exibicoes**_: o número de vezes que o anúncio foi exibido.\n",
        "- _**cliques**_: número de cliques no anúncio.\n",
        "- _**valor_pago_anuncio**_: quantia paga ao Facebook (pela empresa XYZ) pela exibição do anúncio.\n",
        "- _**conversao**_: Número total de pessoas que perguntaram sobre o produto após visualizar do anúncio.\n",
        "- _**compras**_: Número total de pessoas que compraram o produto após visualizar o anúncio."
      ]
    },
    {
      "cell_type": "markdown",
      "metadata": {
        "id": "YQsMpK7TOsW2"
      },
      "source": [
        "##### **Informações estatísticas:**"
      ]
    },
    {
      "cell_type": "markdown",
      "metadata": {
        "id": "TjPN4aU2grXr"
      },
      "source": [
        "Informações estatísticas gerais sobre o nosso dataframe:"
      ]
    },
    {
      "cell_type": "code",
      "metadata": {
        "colab": {
          "base_uri": "https://localhost:8080/",
          "height": 297
        },
        "id": "UR2aoJ9IO3iL",
        "outputId": "f7f67943-1e1e-495d-f413-9dd4313517d2"
      },
      "source": [
        "df.describe(exclude=['O']) # exclude='O' exclui informações para dados não-numéricos."
      ],
      "execution_count": 39,
      "outputs": [
        {
          "output_type": "execute_result",
          "data": {
            "text/html": [
              "<div>\n",
              "<style scoped>\n",
              "    .dataframe tbody tr th:only-of-type {\n",
              "        vertical-align: middle;\n",
              "    }\n",
              "\n",
              "    .dataframe tbody tr th {\n",
              "        vertical-align: top;\n",
              "    }\n",
              "\n",
              "    .dataframe thead th {\n",
              "        text-align: right;\n",
              "    }\n",
              "</style>\n",
              "<table border=\"1\" class=\"dataframe\">\n",
              "  <thead>\n",
              "    <tr style=\"text-align: right;\">\n",
              "      <th></th>\n",
              "      <th>id_anuncio</th>\n",
              "      <th>id_campanha</th>\n",
              "      <th>id_fb_campanha</th>\n",
              "      <th>interesse</th>\n",
              "      <th>numero_exibicoes</th>\n",
              "      <th>cliques</th>\n",
              "      <th>valor_pago_anuncio</th>\n",
              "      <th>conversao</th>\n",
              "      <th>compras</th>\n",
              "    </tr>\n",
              "  </thead>\n",
              "  <tbody>\n",
              "    <tr>\n",
              "      <th>count</th>\n",
              "      <td>1.143000e+03</td>\n",
              "      <td>1143.000000</td>\n",
              "      <td>1143.000000</td>\n",
              "      <td>1143.000000</td>\n",
              "      <td>1.143000e+03</td>\n",
              "      <td>1143.000000</td>\n",
              "      <td>1143.000000</td>\n",
              "      <td>1143.000000</td>\n",
              "      <td>1143.000000</td>\n",
              "    </tr>\n",
              "    <tr>\n",
              "      <th>mean</th>\n",
              "      <td>9.872611e+05</td>\n",
              "      <td>1067.382327</td>\n",
              "      <td>133783.989501</td>\n",
              "      <td>32.766404</td>\n",
              "      <td>1.867321e+05</td>\n",
              "      <td>33.390201</td>\n",
              "      <td>51.360656</td>\n",
              "      <td>2.855643</td>\n",
              "      <td>0.944007</td>\n",
              "    </tr>\n",
              "    <tr>\n",
              "      <th>std</th>\n",
              "      <td>1.939928e+05</td>\n",
              "      <td>121.629393</td>\n",
              "      <td>20500.308622</td>\n",
              "      <td>26.952131</td>\n",
              "      <td>3.127622e+05</td>\n",
              "      <td>56.892438</td>\n",
              "      <td>86.908418</td>\n",
              "      <td>4.483593</td>\n",
              "      <td>1.737708</td>\n",
              "    </tr>\n",
              "    <tr>\n",
              "      <th>min</th>\n",
              "      <td>7.087460e+05</td>\n",
              "      <td>916.000000</td>\n",
              "      <td>103916.000000</td>\n",
              "      <td>2.000000</td>\n",
              "      <td>8.700000e+01</td>\n",
              "      <td>0.000000</td>\n",
              "      <td>0.000000</td>\n",
              "      <td>0.000000</td>\n",
              "      <td>0.000000</td>\n",
              "    </tr>\n",
              "    <tr>\n",
              "      <th>25%</th>\n",
              "      <td>7.776325e+05</td>\n",
              "      <td>936.000000</td>\n",
              "      <td>115716.000000</td>\n",
              "      <td>16.000000</td>\n",
              "      <td>6.503500e+03</td>\n",
              "      <td>1.000000</td>\n",
              "      <td>1.480000</td>\n",
              "      <td>1.000000</td>\n",
              "      <td>0.000000</td>\n",
              "    </tr>\n",
              "    <tr>\n",
              "      <th>50%</th>\n",
              "      <td>1.121185e+06</td>\n",
              "      <td>1178.000000</td>\n",
              "      <td>144549.000000</td>\n",
              "      <td>25.000000</td>\n",
              "      <td>5.150900e+04</td>\n",
              "      <td>8.000000</td>\n",
              "      <td>12.370000</td>\n",
              "      <td>1.000000</td>\n",
              "      <td>1.000000</td>\n",
              "    </tr>\n",
              "    <tr>\n",
              "      <th>75%</th>\n",
              "      <td>1.121804e+06</td>\n",
              "      <td>1178.000000</td>\n",
              "      <td>144657.500000</td>\n",
              "      <td>31.000000</td>\n",
              "      <td>2.217690e+05</td>\n",
              "      <td>37.500000</td>\n",
              "      <td>60.025000</td>\n",
              "      <td>3.000000</td>\n",
              "      <td>1.000000</td>\n",
              "    </tr>\n",
              "    <tr>\n",
              "      <th>max</th>\n",
              "      <td>1.314415e+06</td>\n",
              "      <td>1178.000000</td>\n",
              "      <td>179982.000000</td>\n",
              "      <td>114.000000</td>\n",
              "      <td>3.052003e+06</td>\n",
              "      <td>421.000000</td>\n",
              "      <td>639.949998</td>\n",
              "      <td>60.000000</td>\n",
              "      <td>21.000000</td>\n",
              "    </tr>\n",
              "  </tbody>\n",
              "</table>\n",
              "</div>"
            ],
            "text/plain": [
              "         id_anuncio  id_campanha  ...    conversao      compras\n",
              "count  1.143000e+03  1143.000000  ...  1143.000000  1143.000000\n",
              "mean   9.872611e+05  1067.382327  ...     2.855643     0.944007\n",
              "std    1.939928e+05   121.629393  ...     4.483593     1.737708\n",
              "min    7.087460e+05   916.000000  ...     0.000000     0.000000\n",
              "25%    7.776325e+05   936.000000  ...     1.000000     0.000000\n",
              "50%    1.121185e+06  1178.000000  ...     1.000000     1.000000\n",
              "75%    1.121804e+06  1178.000000  ...     3.000000     1.000000\n",
              "max    1.314415e+06  1178.000000  ...    60.000000    21.000000\n",
              "\n",
              "[8 rows x 9 columns]"
            ]
          },
          "metadata": {
            "tags": []
          },
          "execution_count": 39
        }
      ]
    },
    {
      "cell_type": "markdown",
      "metadata": {
        "id": "8cswmF5Ri-rY"
      },
      "source": [
        "É importante ressaltar que as features _id_anuncio_, _id_campanha_, _id_fb_campanha_ e _interesse_ não são relevantes para realização de análise estatística, por serem identificadores.\n",
        "\n",
        "A avaliação estatística só possui relevância para as features _numero_exibicoes_, _cliques_, _valor_pago_anuncio_, _conversao_ e _compras_."
      ]
    },
    {
      "cell_type": "code",
      "metadata": {
        "colab": {
          "base_uri": "https://localhost:8080/",
          "height": 173
        },
        "id": "cUmMfQDeg35-",
        "outputId": "49748aca-ded2-4930-d44f-ab5d9e19fee9"
      },
      "source": [
        "df.describe(include=['O']) # include='O' limita o método às features compostas por strings."
      ],
      "execution_count": 40,
      "outputs": [
        {
          "output_type": "execute_result",
          "data": {
            "text/html": [
              "<div>\n",
              "<style scoped>\n",
              "    .dataframe tbody tr th:only-of-type {\n",
              "        vertical-align: middle;\n",
              "    }\n",
              "\n",
              "    .dataframe tbody tr th {\n",
              "        vertical-align: top;\n",
              "    }\n",
              "\n",
              "    .dataframe thead th {\n",
              "        text-align: right;\n",
              "    }\n",
              "</style>\n",
              "<table border=\"1\" class=\"dataframe\">\n",
              "  <thead>\n",
              "    <tr style=\"text-align: right;\">\n",
              "      <th></th>\n",
              "      <th>idade</th>\n",
              "      <th>genero</th>\n",
              "    </tr>\n",
              "  </thead>\n",
              "  <tbody>\n",
              "    <tr>\n",
              "      <th>count</th>\n",
              "      <td>1143</td>\n",
              "      <td>1143</td>\n",
              "    </tr>\n",
              "    <tr>\n",
              "      <th>unique</th>\n",
              "      <td>4</td>\n",
              "      <td>2</td>\n",
              "    </tr>\n",
              "    <tr>\n",
              "      <th>top</th>\n",
              "      <td>30-34</td>\n",
              "      <td>M</td>\n",
              "    </tr>\n",
              "    <tr>\n",
              "      <th>freq</th>\n",
              "      <td>426</td>\n",
              "      <td>592</td>\n",
              "    </tr>\n",
              "  </tbody>\n",
              "</table>\n",
              "</div>"
            ],
            "text/plain": [
              "        idade genero\n",
              "count    1143   1143\n",
              "unique      4      2\n",
              "top     30-34      M\n",
              "freq      426    592"
            ]
          },
          "metadata": {
            "tags": []
          },
          "execution_count": 40
        }
      ]
    },
    {
      "cell_type": "markdown",
      "metadata": {
        "id": "uitl1XY0PnqZ"
      },
      "source": [
        "##### **Dados faltantes:**"
      ]
    },
    {
      "cell_type": "markdown",
      "metadata": {
        "id": "hbN_1TLtl_L4"
      },
      "source": [
        "Como já foi possível notar pela primeira inspeção, esse dataframe não possui dados faltantes.\n",
        "\n",
        "De qualquer forma, podemos confirmar e documentar essa informação por outros meios:"
      ]
    },
    {
      "cell_type": "code",
      "metadata": {
        "colab": {
          "base_uri": "https://localhost:8080/",
          "height": 419
        },
        "id": "1PYFJqrPmxPA",
        "outputId": "cea57d76-57c6-4735-fe55-fe415f7dad86"
      },
      "source": [
        "df.isnull()"
      ],
      "execution_count": 60,
      "outputs": [
        {
          "output_type": "execute_result",
          "data": {
            "text/html": [
              "<div>\n",
              "<style scoped>\n",
              "    .dataframe tbody tr th:only-of-type {\n",
              "        vertical-align: middle;\n",
              "    }\n",
              "\n",
              "    .dataframe tbody tr th {\n",
              "        vertical-align: top;\n",
              "    }\n",
              "\n",
              "    .dataframe thead th {\n",
              "        text-align: right;\n",
              "    }\n",
              "</style>\n",
              "<table border=\"1\" class=\"dataframe\">\n",
              "  <thead>\n",
              "    <tr style=\"text-align: right;\">\n",
              "      <th></th>\n",
              "      <th>id_anuncio</th>\n",
              "      <th>id_campanha</th>\n",
              "      <th>id_fb_campanha</th>\n",
              "      <th>idade</th>\n",
              "      <th>genero</th>\n",
              "      <th>interesse</th>\n",
              "      <th>numero_exibicoes</th>\n",
              "      <th>cliques</th>\n",
              "      <th>valor_pago_anuncio</th>\n",
              "      <th>conversao</th>\n",
              "      <th>compras</th>\n",
              "    </tr>\n",
              "  </thead>\n",
              "  <tbody>\n",
              "    <tr>\n",
              "      <th>0</th>\n",
              "      <td>False</td>\n",
              "      <td>False</td>\n",
              "      <td>False</td>\n",
              "      <td>False</td>\n",
              "      <td>False</td>\n",
              "      <td>False</td>\n",
              "      <td>False</td>\n",
              "      <td>False</td>\n",
              "      <td>False</td>\n",
              "      <td>False</td>\n",
              "      <td>False</td>\n",
              "    </tr>\n",
              "    <tr>\n",
              "      <th>1</th>\n",
              "      <td>False</td>\n",
              "      <td>False</td>\n",
              "      <td>False</td>\n",
              "      <td>False</td>\n",
              "      <td>False</td>\n",
              "      <td>False</td>\n",
              "      <td>False</td>\n",
              "      <td>False</td>\n",
              "      <td>False</td>\n",
              "      <td>False</td>\n",
              "      <td>False</td>\n",
              "    </tr>\n",
              "    <tr>\n",
              "      <th>2</th>\n",
              "      <td>False</td>\n",
              "      <td>False</td>\n",
              "      <td>False</td>\n",
              "      <td>False</td>\n",
              "      <td>False</td>\n",
              "      <td>False</td>\n",
              "      <td>False</td>\n",
              "      <td>False</td>\n",
              "      <td>False</td>\n",
              "      <td>False</td>\n",
              "      <td>False</td>\n",
              "    </tr>\n",
              "    <tr>\n",
              "      <th>3</th>\n",
              "      <td>False</td>\n",
              "      <td>False</td>\n",
              "      <td>False</td>\n",
              "      <td>False</td>\n",
              "      <td>False</td>\n",
              "      <td>False</td>\n",
              "      <td>False</td>\n",
              "      <td>False</td>\n",
              "      <td>False</td>\n",
              "      <td>False</td>\n",
              "      <td>False</td>\n",
              "    </tr>\n",
              "    <tr>\n",
              "      <th>4</th>\n",
              "      <td>False</td>\n",
              "      <td>False</td>\n",
              "      <td>False</td>\n",
              "      <td>False</td>\n",
              "      <td>False</td>\n",
              "      <td>False</td>\n",
              "      <td>False</td>\n",
              "      <td>False</td>\n",
              "      <td>False</td>\n",
              "      <td>False</td>\n",
              "      <td>False</td>\n",
              "    </tr>\n",
              "    <tr>\n",
              "      <th>...</th>\n",
              "      <td>...</td>\n",
              "      <td>...</td>\n",
              "      <td>...</td>\n",
              "      <td>...</td>\n",
              "      <td>...</td>\n",
              "      <td>...</td>\n",
              "      <td>...</td>\n",
              "      <td>...</td>\n",
              "      <td>...</td>\n",
              "      <td>...</td>\n",
              "      <td>...</td>\n",
              "    </tr>\n",
              "    <tr>\n",
              "      <th>1138</th>\n",
              "      <td>False</td>\n",
              "      <td>False</td>\n",
              "      <td>False</td>\n",
              "      <td>False</td>\n",
              "      <td>False</td>\n",
              "      <td>False</td>\n",
              "      <td>False</td>\n",
              "      <td>False</td>\n",
              "      <td>False</td>\n",
              "      <td>False</td>\n",
              "      <td>False</td>\n",
              "    </tr>\n",
              "    <tr>\n",
              "      <th>1139</th>\n",
              "      <td>False</td>\n",
              "      <td>False</td>\n",
              "      <td>False</td>\n",
              "      <td>False</td>\n",
              "      <td>False</td>\n",
              "      <td>False</td>\n",
              "      <td>False</td>\n",
              "      <td>False</td>\n",
              "      <td>False</td>\n",
              "      <td>False</td>\n",
              "      <td>False</td>\n",
              "    </tr>\n",
              "    <tr>\n",
              "      <th>1140</th>\n",
              "      <td>False</td>\n",
              "      <td>False</td>\n",
              "      <td>False</td>\n",
              "      <td>False</td>\n",
              "      <td>False</td>\n",
              "      <td>False</td>\n",
              "      <td>False</td>\n",
              "      <td>False</td>\n",
              "      <td>False</td>\n",
              "      <td>False</td>\n",
              "      <td>False</td>\n",
              "    </tr>\n",
              "    <tr>\n",
              "      <th>1141</th>\n",
              "      <td>False</td>\n",
              "      <td>False</td>\n",
              "      <td>False</td>\n",
              "      <td>False</td>\n",
              "      <td>False</td>\n",
              "      <td>False</td>\n",
              "      <td>False</td>\n",
              "      <td>False</td>\n",
              "      <td>False</td>\n",
              "      <td>False</td>\n",
              "      <td>False</td>\n",
              "    </tr>\n",
              "    <tr>\n",
              "      <th>1142</th>\n",
              "      <td>False</td>\n",
              "      <td>False</td>\n",
              "      <td>False</td>\n",
              "      <td>False</td>\n",
              "      <td>False</td>\n",
              "      <td>False</td>\n",
              "      <td>False</td>\n",
              "      <td>False</td>\n",
              "      <td>False</td>\n",
              "      <td>False</td>\n",
              "      <td>False</td>\n",
              "    </tr>\n",
              "  </tbody>\n",
              "</table>\n",
              "<p>1143 rows × 11 columns</p>\n",
              "</div>"
            ],
            "text/plain": [
              "      id_anuncio  id_campanha  ...  conversao  compras\n",
              "0          False        False  ...      False    False\n",
              "1          False        False  ...      False    False\n",
              "2          False        False  ...      False    False\n",
              "3          False        False  ...      False    False\n",
              "4          False        False  ...      False    False\n",
              "...          ...          ...  ...        ...      ...\n",
              "1138       False        False  ...      False    False\n",
              "1139       False        False  ...      False    False\n",
              "1140       False        False  ...      False    False\n",
              "1141       False        False  ...      False    False\n",
              "1142       False        False  ...      False    False\n",
              "\n",
              "[1143 rows x 11 columns]"
            ]
          },
          "metadata": {
            "tags": []
          },
          "execution_count": 60
        }
      ]
    },
    {
      "cell_type": "markdown",
      "metadata": {
        "id": "VKOLtdE0nCrt"
      },
      "source": [
        "Verificando todo o dataframe por meio de contagem:"
      ]
    },
    {
      "cell_type": "code",
      "metadata": {
        "colab": {
          "base_uri": "https://localhost:8080/"
        },
        "id": "NRW3UF1DO7OK",
        "outputId": "d8c94fe5-6612-4fee-f0c5-853816648247"
      },
      "source": [
        "df.isnull().sum()"
      ],
      "execution_count": 41,
      "outputs": [
        {
          "output_type": "execute_result",
          "data": {
            "text/plain": [
              "id_anuncio            0\n",
              "id_campanha           0\n",
              "id_fb_campanha        0\n",
              "idade                 0\n",
              "genero                0\n",
              "interesse             0\n",
              "numero_exibicoes      0\n",
              "cliques               0\n",
              "valor_pago_anuncio    0\n",
              "conversao             0\n",
              "compras               0\n",
              "dtype: int64"
            ]
          },
          "metadata": {
            "tags": []
          },
          "execution_count": 41
        }
      ]
    },
    {
      "cell_type": "markdown",
      "metadata": {
        "id": "yn4coWtSnKsl"
      },
      "source": [
        "Verificando por meio de visualização:"
      ]
    },
    {
      "cell_type": "code",
      "metadata": {
        "colab": {
          "base_uri": "https://localhost:8080/",
          "height": 463
        },
        "id": "BnbVq39aQ64L",
        "outputId": "275576a2-2416-42ac-b2a6-670e01c2c5a0"
      },
      "source": [
        "missingno.matrix(df,figsize=(10,5))"
      ],
      "execution_count": 73,
      "outputs": [
        {
          "output_type": "execute_result",
          "data": {
            "text/plain": [
              "<matplotlib.axes._subplots.AxesSubplot at 0x7f5a80e58810>"
            ]
          },
          "metadata": {
            "tags": []
          },
          "execution_count": 73
        },
        {
          "output_type": "display_data",
          "data": {
            "image/png": "[encoded data removed]",
            "text/plain": [
              "<Figure size 720x360 with 2 Axes>"
            ]
          },
          "metadata": {
            "tags": [],
            "needs_background": "light"
          }
        }
      ]
    },
    {
      "cell_type": "markdown",
      "metadata": {
        "id": "_rNy-X1RRucC"
      },
      "source": [
        "##### **Verificação de outliers (valores discrepantes):**"
      ]
    },
    {
      "cell_type": "code",
      "metadata": {
        "colab": {
          "base_uri": "https://localhost:8080/",
          "height": 603
        },
        "id": "roAhP85FSpjm",
        "outputId": "824f7c2d-6fdb-41f4-82b5-9ea4b8147d57"
      },
      "source": [
        "plt.figure(figsize=(15,10))\n",
        "df.boxplot()\n",
        "plt.show()"
      ],
      "execution_count": 80,
      "outputs": [
        {
          "output_type": "display_data",
          "data": {
            "image/png": "[encoded data removed]",
            "text/plain": [
              "<Figure size 1080x720 with 1 Axes>"
            ]
          },
          "metadata": {
            "tags": [],
            "needs_background": "light"
          }
        }
      ]
    },
    {
      "cell_type": "markdown",
      "metadata": {
        "id": "s3-sitzKTZQF"
      },
      "source": [
        "##### **Duplicatas:**"
      ]
    },
    {
      "cell_type": "code",
      "metadata": {
        "colab": {
          "base_uri": "https://localhost:8080/",
          "height": 49
        },
        "id": "kvSR253HSs2J",
        "outputId": "247c4d2b-5fa8-4200-91ff-082a4b5f1973"
      },
      "source": [
        "df[df.duplicated()]"
      ],
      "execution_count": 44,
      "outputs": [
        {
          "output_type": "execute_result",
          "data": {
            "text/html": [
              "<div>\n",
              "<style scoped>\n",
              "    .dataframe tbody tr th:only-of-type {\n",
              "        vertical-align: middle;\n",
              "    }\n",
              "\n",
              "    .dataframe tbody tr th {\n",
              "        vertical-align: top;\n",
              "    }\n",
              "\n",
              "    .dataframe thead th {\n",
              "        text-align: right;\n",
              "    }\n",
              "</style>\n",
              "<table border=\"1\" class=\"dataframe\">\n",
              "  <thead>\n",
              "    <tr style=\"text-align: right;\">\n",
              "      <th></th>\n",
              "      <th>id_anuncio</th>\n",
              "      <th>id_campanha</th>\n",
              "      <th>id_fb_campanha</th>\n",
              "      <th>idade</th>\n",
              "      <th>genero</th>\n",
              "      <th>interesse</th>\n",
              "      <th>numero_exibicoes</th>\n",
              "      <th>cliques</th>\n",
              "      <th>valor_pago_anuncio</th>\n",
              "      <th>conversao</th>\n",
              "      <th>compras</th>\n",
              "    </tr>\n",
              "  </thead>\n",
              "  <tbody>\n",
              "  </tbody>\n",
              "</table>\n",
              "</div>"
            ],
            "text/plain": [
              "Empty DataFrame\n",
              "Columns: [id_anuncio, id_campanha, id_fb_campanha, idade, genero, interesse, numero_exibicoes, cliques, valor_pago_anuncio, conversao, compras]\n",
              "Index: []"
            ]
          },
          "metadata": {
            "tags": []
          },
          "execution_count": 44
        }
      ]
    },
    {
      "cell_type": "code",
      "metadata": {
        "colab": {
          "base_uri": "https://localhost:8080/"
        },
        "id": "X4TWCWdvTj2N",
        "outputId": "34f9c6df-56ce-4484-d741-cad256c93299"
      },
      "source": [
        "len(df.duplicated())"
      ],
      "execution_count": 45,
      "outputs": [
        {
          "output_type": "execute_result",
          "data": {
            "text/plain": [
              "1143"
            ]
          },
          "metadata": {
            "tags": []
          },
          "execution_count": 45
        }
      ]
    },
    {
      "cell_type": "markdown",
      "metadata": {
        "id": "ar8V-6fMqIUc"
      },
      "source": [
        "Vemos, portanto, que não há dados duplicados no nosso dataframe."
      ]
    },
    {
      "cell_type": "markdown",
      "metadata": {
        "id": "cY_8zg4qT_VK"
      },
      "source": [
        "##### **Matrizes de Correlação:**"
      ]
    },
    {
      "cell_type": "code",
      "metadata": {
        "colab": {
          "base_uri": "https://localhost:8080/",
          "height": 685
        },
        "id": "WYF0quDKUBSE",
        "outputId": "47b616b7-c566-4b1e-924c-5574c5d960a2"
      },
      "source": [
        "plt.figure(figsize=(12,10))\n",
        "corr_matrix = df.corr() # salvando a correlação em uma variável para criarmos o heatmap a seguir\n",
        "sns.heatmap(corr_matrix, annot=True, cmap=plt.cm.Reds)\n",
        "plt.show()"
      ],
      "execution_count": 84,
      "outputs": [
        {
          "output_type": "display_data",
          "data": {
            "image/png": "[encoded data removed]",
            "text/plain": [
              "<Figure size 864x720 with 2 Axes>"
            ]
          },
          "metadata": {
            "tags": [],
            "needs_background": "light"
          }
        }
      ]
    },
    {
      "cell_type": "markdown",
      "metadata": {
        "id": "oMi3UgmNWA86"
      },
      "source": [
        "### **Etapa 3 - Inteligência Artificial**"
      ]
    },
    {
      "cell_type": "markdown",
      "metadata": {
        "id": "Fh65aPAdVY1O"
      },
      "source": [
        "#### **Avaliação de _features_ (colunas)**"
      ]
    },
    {
      "cell_type": "markdown",
      "metadata": {
        "id": "DX-ewsv2Yz9B"
      },
      "source": [
        "##### 1. _**id_campanha**_ - ID associada a cada anúncio da empresa XYZ"
      ]
    },
    {
      "cell_type": "code",
      "metadata": {
        "colab": {
          "base_uri": "https://localhost:8080/"
        },
        "id": "0XAYRJVNUxMt",
        "outputId": "eb40cc60-a7b9-40f5-926f-1de965f42708"
      },
      "source": [
        "# Número de IDs distintas especificadas no dataframe\n",
        "df[\"id_campanha\"].nunique()"
      ],
      "execution_count": 47,
      "outputs": [
        {
          "output_type": "execute_result",
          "data": {
            "text/plain": [
              "3"
            ]
          },
          "metadata": {
            "tags": []
          },
          "execution_count": 47
        }
      ]
    },
    {
      "cell_type": "code",
      "metadata": {
        "colab": {
          "base_uri": "https://localhost:8080/"
        },
        "id": "zJ5LCwOvffCt",
        "outputId": "e36bc0d7-1c4d-412d-f478-8b06748f6a21"
      },
      "source": [
        "# Listagem de todas as IDs distintas presentes no dataframe\n",
        "df[\"id_campanha\"].unique()"
      ],
      "execution_count": 48,
      "outputs": [
        {
          "output_type": "execute_result",
          "data": {
            "text/plain": [
              "array([ 916,  936, 1178])"
            ]
          },
          "metadata": {
            "tags": []
          },
          "execution_count": 48
        }
      ]
    },
    {
      "cell_type": "markdown",
      "metadata": {
        "id": "B9yryXNHgJWP"
      },
      "source": [
        "Vamos renomear os valores únicos de cada campanha existente no dataframe para facilitar a leitura e entendimento dos dados. Dessa forma, teremos:\n",
        "\n",
        "- *ID 916: \"campanha_1\"*\n",
        "- *ID 936: \"campanha_2\"*\n",
        "- *ID 1178: \"campanha_3\"*"
      ]
    },
    {
      "cell_type": "code",
      "metadata": {
        "id": "oNK6cxO0fjyJ"
      },
      "source": [
        "df[\"id_campanha\"].replace({916:\"campanha_1\", 936: \"campanha_2\", 1178: \"campanha_3\"}, inplace=True)"
      ],
      "execution_count": 49,
      "outputs": []
    },
    {
      "cell_type": "code",
      "metadata": {
        "colab": {
          "base_uri": "https://localhost:8080/",
          "height": 204
        },
        "id": "vJZUpCtQfqdp",
        "outputId": "3bb2f8fb-5eff-4f17-f644-2af6651337ba"
      },
      "source": [
        "df.head()"
      ],
      "execution_count": 50,
      "outputs": [
        {
          "output_type": "execute_result",
          "data": {
            "text/html": [
              "<div>\n",
              "<style scoped>\n",
              "    .dataframe tbody tr th:only-of-type {\n",
              "        vertical-align: middle;\n",
              "    }\n",
              "\n",
              "    .dataframe tbody tr th {\n",
              "        vertical-align: top;\n",
              "    }\n",
              "\n",
              "    .dataframe thead th {\n",
              "        text-align: right;\n",
              "    }\n",
              "</style>\n",
              "<table border=\"1\" class=\"dataframe\">\n",
              "  <thead>\n",
              "    <tr style=\"text-align: right;\">\n",
              "      <th></th>\n",
              "      <th>id_anuncio</th>\n",
              "      <th>id_campanha</th>\n",
              "      <th>id_fb_campanha</th>\n",
              "      <th>idade</th>\n",
              "      <th>genero</th>\n",
              "      <th>interesse</th>\n",
              "      <th>numero_exibicoes</th>\n",
              "      <th>cliques</th>\n",
              "      <th>valor_pago_anuncio</th>\n",
              "      <th>conversao</th>\n",
              "      <th>compras</th>\n",
              "    </tr>\n",
              "  </thead>\n",
              "  <tbody>\n",
              "    <tr>\n",
              "      <th>0</th>\n",
              "      <td>708746</td>\n",
              "      <td>campanha_1</td>\n",
              "      <td>103916</td>\n",
              "      <td>30-34</td>\n",
              "      <td>M</td>\n",
              "      <td>15</td>\n",
              "      <td>7350</td>\n",
              "      <td>1</td>\n",
              "      <td>1.43</td>\n",
              "      <td>2</td>\n",
              "      <td>1</td>\n",
              "    </tr>\n",
              "    <tr>\n",
              "      <th>1</th>\n",
              "      <td>708749</td>\n",
              "      <td>campanha_1</td>\n",
              "      <td>103917</td>\n",
              "      <td>30-34</td>\n",
              "      <td>M</td>\n",
              "      <td>16</td>\n",
              "      <td>17861</td>\n",
              "      <td>2</td>\n",
              "      <td>1.82</td>\n",
              "      <td>2</td>\n",
              "      <td>0</td>\n",
              "    </tr>\n",
              "    <tr>\n",
              "      <th>2</th>\n",
              "      <td>708771</td>\n",
              "      <td>campanha_1</td>\n",
              "      <td>103920</td>\n",
              "      <td>30-34</td>\n",
              "      <td>M</td>\n",
              "      <td>20</td>\n",
              "      <td>693</td>\n",
              "      <td>0</td>\n",
              "      <td>0.00</td>\n",
              "      <td>1</td>\n",
              "      <td>0</td>\n",
              "    </tr>\n",
              "    <tr>\n",
              "      <th>3</th>\n",
              "      <td>708815</td>\n",
              "      <td>campanha_1</td>\n",
              "      <td>103928</td>\n",
              "      <td>30-34</td>\n",
              "      <td>M</td>\n",
              "      <td>28</td>\n",
              "      <td>4259</td>\n",
              "      <td>1</td>\n",
              "      <td>1.25</td>\n",
              "      <td>1</td>\n",
              "      <td>0</td>\n",
              "    </tr>\n",
              "    <tr>\n",
              "      <th>4</th>\n",
              "      <td>708818</td>\n",
              "      <td>campanha_1</td>\n",
              "      <td>103928</td>\n",
              "      <td>30-34</td>\n",
              "      <td>M</td>\n",
              "      <td>28</td>\n",
              "      <td>4133</td>\n",
              "      <td>1</td>\n",
              "      <td>1.29</td>\n",
              "      <td>1</td>\n",
              "      <td>1</td>\n",
              "    </tr>\n",
              "  </tbody>\n",
              "</table>\n",
              "</div>"
            ],
            "text/plain": [
              "   id_anuncio id_campanha  ...  conversao compras\n",
              "0      708746  campanha_1  ...          2       1\n",
              "1      708749  campanha_1  ...          2       0\n",
              "2      708771  campanha_1  ...          1       0\n",
              "3      708815  campanha_1  ...          1       0\n",
              "4      708818  campanha_1  ...          1       1\n",
              "\n",
              "[5 rows x 11 columns]"
            ]
          },
          "metadata": {
            "tags": []
          },
          "execution_count": 50
        }
      ]
    },
    {
      "cell_type": "code",
      "metadata": {
        "colab": {
          "base_uri": "https://localhost:8080/",
          "height": 204
        },
        "id": "jh8HZawkh1Pf",
        "outputId": "76b2649a-d66f-49b6-f262-64be025dee9e"
      },
      "source": [
        "df.tail()"
      ],
      "execution_count": 51,
      "outputs": [
        {
          "output_type": "execute_result",
          "data": {
            "text/html": [
              "<div>\n",
              "<style scoped>\n",
              "    .dataframe tbody tr th:only-of-type {\n",
              "        vertical-align: middle;\n",
              "    }\n",
              "\n",
              "    .dataframe tbody tr th {\n",
              "        vertical-align: top;\n",
              "    }\n",
              "\n",
              "    .dataframe thead th {\n",
              "        text-align: right;\n",
              "    }\n",
              "</style>\n",
              "<table border=\"1\" class=\"dataframe\">\n",
              "  <thead>\n",
              "    <tr style=\"text-align: right;\">\n",
              "      <th></th>\n",
              "      <th>id_anuncio</th>\n",
              "      <th>id_campanha</th>\n",
              "      <th>id_fb_campanha</th>\n",
              "      <th>idade</th>\n",
              "      <th>genero</th>\n",
              "      <th>interesse</th>\n",
              "      <th>numero_exibicoes</th>\n",
              "      <th>cliques</th>\n",
              "      <th>valor_pago_anuncio</th>\n",
              "      <th>conversao</th>\n",
              "      <th>compras</th>\n",
              "    </tr>\n",
              "  </thead>\n",
              "  <tbody>\n",
              "    <tr>\n",
              "      <th>1138</th>\n",
              "      <td>1314410</td>\n",
              "      <td>campanha_3</td>\n",
              "      <td>179977</td>\n",
              "      <td>45-49</td>\n",
              "      <td>F</td>\n",
              "      <td>109</td>\n",
              "      <td>1129773</td>\n",
              "      <td>252</td>\n",
              "      <td>358.189997</td>\n",
              "      <td>13</td>\n",
              "      <td>2</td>\n",
              "    </tr>\n",
              "    <tr>\n",
              "      <th>1139</th>\n",
              "      <td>1314411</td>\n",
              "      <td>campanha_3</td>\n",
              "      <td>179978</td>\n",
              "      <td>45-49</td>\n",
              "      <td>F</td>\n",
              "      <td>110</td>\n",
              "      <td>637549</td>\n",
              "      <td>120</td>\n",
              "      <td>173.880003</td>\n",
              "      <td>3</td>\n",
              "      <td>0</td>\n",
              "    </tr>\n",
              "    <tr>\n",
              "      <th>1140</th>\n",
              "      <td>1314412</td>\n",
              "      <td>campanha_3</td>\n",
              "      <td>179979</td>\n",
              "      <td>45-49</td>\n",
              "      <td>F</td>\n",
              "      <td>111</td>\n",
              "      <td>151531</td>\n",
              "      <td>28</td>\n",
              "      <td>40.289999</td>\n",
              "      <td>2</td>\n",
              "      <td>0</td>\n",
              "    </tr>\n",
              "    <tr>\n",
              "      <th>1141</th>\n",
              "      <td>1314414</td>\n",
              "      <td>campanha_3</td>\n",
              "      <td>179981</td>\n",
              "      <td>45-49</td>\n",
              "      <td>F</td>\n",
              "      <td>113</td>\n",
              "      <td>790253</td>\n",
              "      <td>135</td>\n",
              "      <td>198.710000</td>\n",
              "      <td>8</td>\n",
              "      <td>2</td>\n",
              "    </tr>\n",
              "    <tr>\n",
              "      <th>1142</th>\n",
              "      <td>1314415</td>\n",
              "      <td>campanha_3</td>\n",
              "      <td>179982</td>\n",
              "      <td>45-49</td>\n",
              "      <td>F</td>\n",
              "      <td>114</td>\n",
              "      <td>513161</td>\n",
              "      <td>114</td>\n",
              "      <td>165.609999</td>\n",
              "      <td>5</td>\n",
              "      <td>2</td>\n",
              "    </tr>\n",
              "  </tbody>\n",
              "</table>\n",
              "</div>"
            ],
            "text/plain": [
              "      id_anuncio id_campanha  ...  conversao compras\n",
              "1138     1314410  campanha_3  ...         13       2\n",
              "1139     1314411  campanha_3  ...          3       0\n",
              "1140     1314412  campanha_3  ...          2       0\n",
              "1141     1314414  campanha_3  ...          8       2\n",
              "1142     1314415  campanha_3  ...          5       2\n",
              "\n",
              "[5 rows x 11 columns]"
            ]
          },
          "metadata": {
            "tags": []
          },
          "execution_count": 51
        }
      ]
    },
    {
      "cell_type": "code",
      "metadata": {
        "colab": {
          "base_uri": "https://localhost:8080/",
          "height": 607
        },
        "id": "6-4MxXhrh6ic",
        "outputId": "55ed26e3-b3fd-4692-84b5-a3ad65e96bf7"
      },
      "source": [
        "plt.figure(figsize=(12,10))\n",
        "sns.countplot(x=\"id_campanha\", data=df)\n",
        "plt.show()"
      ],
      "execution_count": 52,
      "outputs": [
        {
          "output_type": "display_data",
          "data": {
            "image/png": "[encoded data removed]",
            "text/plain": [
              "<Figure size 864x720 with 1 Axes>"
            ]
          },
          "metadata": {
            "tags": [],
            "needs_background": "light"
          }
        }
      ]
    },
    {
      "cell_type": "markdown",
      "metadata": {
        "id": "97Yzs93miu9X"
      },
      "source": [
        "Podemos observar que *campanha_3* possui um maior número de anúncios (instâncias no dataframe)."
      ]
    },
    {
      "cell_type": "code",
      "metadata": {
        "colab": {
          "base_uri": "https://localhost:8080/",
          "height": 606
        },
        "id": "6Qxvp5UMh9-z",
        "outputId": "7d36a778-f124-4661-d4a8-6a547c471f0b"
      },
      "source": [
        "plt.figure(figsize=(12,10))\n",
        "plt.bar(df[\"id_campanha\"], df[\"compras\"])\n",
        "plt.ylabel(\"Compras\")\n",
        "plt.xlabel(\"Campanhas/Compras\")\n",
        "plt.show()"
      ],
      "execution_count": 53,
      "outputs": [
        {
          "output_type": "display_data",
          "data": {
            "image/png": "[encoded data removed]",
            "text/plain": [
              "<Figure size 864x720 with 1 Axes>"
            ]
          },
          "metadata": {
            "tags": [],
            "needs_background": "light"
          }
        }
      ]
    },
    {
      "cell_type": "markdown",
      "metadata": {
        "id": "_MCUAcNxjsHo"
      },
      "source": [
        "##### 2. _**idade**_ - idade da pessoa a qual o anúncio é entregue."
      ]
    },
    {
      "cell_type": "code",
      "metadata": {
        "colab": {
          "base_uri": "https://localhost:8080/"
        },
        "id": "KNyom3unjPpJ",
        "outputId": "7dea3e18-64ab-4e1b-daaa-c5a5c3560e1b"
      },
      "source": [
        "df[\"idade\"].nunique()"
      ],
      "execution_count": 54,
      "outputs": [
        {
          "output_type": "execute_result",
          "data": {
            "text/plain": [
              "4"
            ]
          },
          "metadata": {
            "tags": []
          },
          "execution_count": 54
        }
      ]
    },
    {
      "cell_type": "code",
      "metadata": {
        "colab": {
          "base_uri": "https://localhost:8080/"
        },
        "id": "QGHVxFDbj2RA",
        "outputId": "74dd84a1-0287-4060-f7cd-d27d78ec0b4d"
      },
      "source": [
        "df[\"idade\"].unique()"
      ],
      "execution_count": 55,
      "outputs": [
        {
          "output_type": "execute_result",
          "data": {
            "text/plain": [
              "array(['30-34', '35-39', '40-44', '45-49'], dtype=object)"
            ]
          },
          "metadata": {
            "tags": []
          },
          "execution_count": 55
        }
      ]
    },
    {
      "cell_type": "code",
      "metadata": {
        "colab": {
          "base_uri": "https://localhost:8080/",
          "height": 606
        },
        "id": "UXak9H_4j3n3",
        "outputId": "72c3ee4b-0d69-4c67-f2ea-042b704fc820"
      },
      "source": [
        "plt.figure(figsize=(12,10))\n",
        "sns.countplot(x = \"idade\", data=df)\n",
        "plt.show()"
      ],
      "execution_count": 56,
      "outputs": [
        {
          "output_type": "display_data",
          "data": {
            "image/png": "[encoded data removed]",
            "text/plain": [
              "<Figure size 864x720 with 1 Axes>"
            ]
          },
          "metadata": {
            "tags": [],
            "needs_background": "light"
          }
        }
      ]
    },
    {
      "cell_type": "code",
      "metadata": {
        "colab": {
          "base_uri": "https://localhost:8080/",
          "height": 607
        },
        "id": "xz364hVvkELh",
        "outputId": "ffa9153b-cd75-4b32-e7e8-c65b147ae1c0"
      },
      "source": [
        "plt.figure(figsize=(12,10))\n",
        "tips = sns.load_dataset(\"tips\")\n",
        "sns.barplot(x=df[\"id_campanha\"], y=df[\"compras\"], hue=df[\"idade\"], data=tips)\n",
        "plt.show()"
      ],
      "execution_count": 57,
      "outputs": [
        {
          "output_type": "display_data",
          "data": {
            "image/png": "[encoded data removed]",
            "text/plain": [
              "<Figure size 864x720 with 1 Axes>"
            ]
          },
          "metadata": {
            "tags": [],
            "needs_background": "light"
          }
        }
      ]
    },
    {
      "cell_type": "markdown",
      "metadata": {
        "id": "0GxZqCZGkRqQ"
      },
      "source": [
        "##### 3. _**genero**_ - gênero da pessoa a qual o anúncio é entregue."
      ]
    },
    {
      "cell_type": "code",
      "metadata": {
        "id": "YrvRDQCCkIv_"
      },
      "source": [
        ""
      ],
      "execution_count": 57,
      "outputs": []
    }
  ]
}